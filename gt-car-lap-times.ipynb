{
 "cells": [
  {
   "cell_type": "markdown",
   "metadata": {},
   "source": [
    "## GT Car Lap Times  \n",
    "https://www.kaggle.com/datasets/scottdchris/nurburgring100?select=lap_times.csv"
   ]
  },
  {
   "cell_type": "markdown",
   "metadata": {},
   "source": [
    "## Setup  \n",
    "**Download csv file car data**  \n",
    "https://github.com/JareYee/gt-car-lap-times.git  "
   ]
  },
  {
   "cell_type": "markdown",
   "metadata": {},
   "source": [
    "## Import Packages"
   ]
  },
  {
   "cell_type": "code",
   "execution_count": 7,
   "metadata": {},
   "outputs": [],
   "source": [
    "import pandas as pd\n",
    "import numpy as np\n",
    "import seaborn as sb\n"
   ]
  },
  {
   "cell_type": "markdown",
   "metadata": {},
   "source": [
    "## Code start\n",
    "**Import data**"
   ]
  },
  {
   "cell_type": "code",
   "execution_count": 16,
   "metadata": {},
   "outputs": [
    {
     "name": "stdout",
     "output_type": "stream",
     "text": [
      "          Year         Make                           Model     Time  \\\n",
      "Position                                                               \n",
      "1         2009      Radical                          SR8 LM  06:48.0   \n",
      "2         2005      Radical                             SR8  06:56.1   \n",
      "3         2013      Porsche                      918 Spyder  06:57.0   \n",
      "4         2015  Lamborghini  Aventador LP 750-4 Superveloce  06:59.7   \n",
      "5         2015       Nissan                      GT-R Nismo  07:08.7   \n",
      "6         2009      Gumpert                    Apollo Speed  07:11.6   \n",
      "7         2010        Dodge                Viper SRT-10 ACR  07:12.1   \n",
      "8         2012        Lexus         LFA Nurburgring Package  07:14.6   \n",
      "\n",
      "          Unnamed: 5  \n",
      "Position              \n",
      "1                NaN  \n",
      "2                NaN  \n",
      "3                NaN  \n",
      "4                NaN  \n",
      "5                NaN  \n",
      "6                NaN  \n",
      "7                NaN  \n",
      "8                NaN  \n"
     ]
    }
   ],
   "source": [
    "car_df = pd.read_csv('https://raw.githubusercontent.com/JareYee/gt-car-lap-times/main/lap_times.csv', \n",
    "                     index_col = 0)\n",
    "print(car_df.head(8))\n"
   ]
  }
 ],
 "metadata": {
  "kernelspec": {
   "display_name": "Python 3",
   "language": "python",
   "name": "python3"
  },
  "language_info": {
   "codemirror_mode": {
    "name": "ipython",
    "version": 3
   },
   "file_extension": ".py",
   "mimetype": "text/x-python",
   "name": "python",
   "nbconvert_exporter": "python",
   "pygments_lexer": "ipython3",
   "version": "3.12.2"
  }
 },
 "nbformat": 4,
 "nbformat_minor": 2
}
